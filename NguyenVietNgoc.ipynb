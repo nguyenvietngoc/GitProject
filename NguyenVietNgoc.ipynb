{
  "nbformat": 4,
  "nbformat_minor": 0,
  "metadata": {
    "colab": {
      "provenance": [],
      "authorship_tag": "ABX9TyOGZLpSjQNC7pX+gnXcnhVu",
      "include_colab_link": true
    },
    "kernelspec": {
      "name": "python3",
      "display_name": "Python 3"
    },
    "language_info": {
      "name": "python"
    }
  },
  "cells": [
    {
      "cell_type": "markdown",
      "metadata": {
        "id": "view-in-github",
        "colab_type": "text"
      },
      "source": [
        "<a href=\"https://colab.research.google.com/github/nguyenvietngoc/GitProject/blob/main/NguyenVietNgoc.ipynb\" target=\"_parent\"><img src=\"https://colab.research.google.com/assets/colab-badge.svg\" alt=\"Open In Colab\"/></a>"
      ]
    },
    {
      "cell_type": "code",
      "source": [
        "from queue import PriorityQueue as pq\n",
        "#khai báo class Node\n",
        "class Node:\n",
        "  def __init__(self,name,par=None,d=0):\n",
        "    self.name=name;\n",
        "    self.par=par;\n",
        "    self.d=d;\n",
        "  def __display__(self):\n",
        "    print(self.name,self.d)\n",
        "  def __eq__(self,other):\n",
        "    if other == None:\n",
        "      return False\n",
        "    return self.name == other.name\n",
        "  def __lt__(self,other):\n",
        "    if other == None:\n",
        "      return False\n",
        "    return self.name < other.name"
      ],
      "metadata": {
        "id": "pLbX1lpBG-sj"
      },
      "execution_count": 15,
      "outputs": []
    },
    {
      "cell_type": "code",
      "source": [
        "from queue import PriorityQueue as pq\n",
        "#khai báo class Node\n",
        "class Node:\n",
        "  def __init__(self,name,par=None,d=0):\n",
        "    self.name=name;\n",
        "    self.par=par;\n",
        "    self.d=d;\n",
        "  def __display__(self):\n",
        "    print(self.name,self.d)\n",
        "  def __eq__(self,other):\n",
        "    if other == None:\n",
        "      return False\n",
        "    return self.name == other.name\n",
        "  def __lt__(self,other):\n",
        "    if other == None:\n",
        "      return False\n",
        "    return self.name < other.name"
      ],
      "metadata": {
        "id": "9aSfO-4uHJov"
      },
      "execution_count": 16,
      "outputs": []
    },
    {
      "cell_type": "code",
      "source": [
        "#các ham khac\n",
        "def kiemtra(tam,q):\n",
        "  if tam== None:\n",
        "    return False\n",
        "  return (tam in q.queue)"
      ],
      "metadata": {
        "id": "Lo1J76F1HKeE"
      },
      "execution_count": 17,
      "outputs": []
    },
    {
      "cell_type": "code",
      "source": [
        "def tk_cuctieu(S=Node(\"A\"),G=Node(\"G\")):\n",
        "  #buoc 1\n",
        "  Open=pq()\n",
        "  Open.put(S)\n",
        "  while True:\n",
        "      if Open.empty== True:\n",
        "        print('tim kiem that bai')\n",
        "        return\n",
        "    #buoc 3\n",
        "      Closed= pq()\n",
        "      O=Open.get()\n",
        "      Closed.put(O)\n",
        "      print('duyet cay',O.name ,O.d)\n",
        "      #buoc 4\n",
        "      if O.name ==G.name :\n",
        "          print('tim kiem thanh cong ')\n",
        "          print('quamg duong ',O.d)\n",
        "      #buoc 5\n",
        "      i=0\n",
        "      while i<(len(Data[O.name ])):\n",
        "        name= Data[O.name ][i]\n",
        "        d= O.d + Data[O.name][i+1]\n",
        "        tam=Node(name=name ,d=d)\n",
        "        tam.par=O\n",
        "        if not kiemtra(tam,Open) and not kiemtra(tam,Closed):\n",
        "          Open.put(tam)\n",
        "        i=i+2"
      ],
      "metadata": {
        "id": "xqzlS8MBHNzY"
      },
      "execution_count": 18,
      "outputs": []
    }
  ]
}