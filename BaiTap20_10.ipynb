{
  "nbformat": 4,
  "nbformat_minor": 0,
  "metadata": {
    "colab": {
      "provenance": [],
      "authorship_tag": "ABX9TyMOcjdTh+ZZxZiUoTMUTdU4",
      "include_colab_link": true
    },
    "kernelspec": {
      "name": "python3",
      "display_name": "Python 3"
    },
    "language_info": {
      "name": "python"
    }
  },
  "cells": [
    {
      "cell_type": "markdown",
      "metadata": {
        "id": "view-in-github",
        "colab_type": "text"
      },
      "source": [
        "<a href=\"https://colab.research.google.com/github/nguyenvietngoc/GitProject/blob/main/BaiTap20_10.ipynb\" target=\"_parent\"><img src=\"https://colab.research.google.com/assets/colab-badge.svg\" alt=\"Open In Colab\"/></a>"
      ]
    },
    {
      "cell_type": "code",
      "execution_count": 61,
      "metadata": {
        "id": "U4hJ9CBoyNQ8"
      },
      "outputs": [],
      "source": [
        "from collections import defaultdict\n",
        "from queue import PriorityQueue"
      ]
    },
    {
      "cell_type": "code",
      "source": [
        "def BestFirstSearch(S = Node('A'), G = Node('N'), data={}):\n",
        "    Open = PriorityQueue()\n",
        "    Closed = PriorityQueue()\n",
        "    S.h = data[S.name][-1]\n",
        "    Open.put(S)\n",
        "    while True:\n",
        "        if Open.empty() == True:\n",
        "            print('Tim Kiem That Bai')\n",
        "            return\n",
        "        O = Open.get()\n",
        "        Closed.put(O)\n",
        "        print(\"duyet: \", O.name, O.h)\n",
        "        if sosanh(O, G) == True:\n",
        "            print('Tim Kiem Thanh Cong')\n",
        "            return\n",
        "\n",
        "        i = 0\n",
        "        while i < len(data[O.name]) - 1:\n",
        "            name = data[O.name][i]\n",
        "            h = data[O.name][-1]\n",
        "            tam = Node(name=name, h=h)\n",
        "            tam.par = O\n",
        "            if not kiemtra(tam, Open) and not kiemtra(tam, Closed):\n",
        "                Open.put(tam)\n",
        "            i += 1"
      ],
      "metadata": {
        "id": "H0zYf30XCgpH"
      },
      "execution_count": 60,
      "outputs": []
    },
    {
      "cell_type": "code",
      "source": [
        "#so sánh\n",
        "def sosanh(O, G):\n",
        "    if O.name == G.name:\n",
        "        return True\n",
        "    return False\n",
        "\n",
        "#kiẻm tra\n",
        "def kiemtra(tam, q):\n",
        "    if tam == None:\n",
        "        return False\n",
        "    return (tam in q.queue)\n",
        "\n",
        "#các hàm\n",
        "def getPath(O, distance):\n",
        "  print(O.name)\n",
        "  distance += O.h\n",
        "  if O.par != None:\n",
        "    getPath(O.par, distance)\n",
        "  else:\n",
        "    print(\"Khoảng cách: \" +distance)\n",
        "    return"
      ],
      "metadata": {
        "id": "XArdCEONCg6M"
      },
      "execution_count": 62,
      "outputs": []
    },
    {
      "cell_type": "code",
      "source": [
        "#khai báo class Node\n",
        "class Node:\n",
        "  def __init__(self, name, par = None, h=0):\n",
        "    self.name= name\n",
        "    self.par= par\n",
        "    self.h=h\n",
        "  def display(self):\n",
        "    print(self.name, self.h)\n",
        "  def __lt__(self, other):\n",
        "    if other == None:\n",
        "      return False\n",
        "    return self.h < other.h\n",
        "  def __eq__(self, other):\n",
        "    if other == None:\n",
        "      return False\n",
        "      return self.name == other.name"
      ],
      "metadata": {
        "id": "m1WkMgGc704I"
      },
      "execution_count": 63,
      "outputs": []
    },
    {
      "cell_type": "code",
      "source": [
        "data = defaultdict(list)\n",
        "data['A'] = ['B', 'C', 'D', 6]\n",
        "data['B'] = ['E', 'F', 3]\n",
        "data['C'] = ['G', 'H', 4]\n",
        "data['D'] = ['I', 'J', 5]\n",
        "data['E'] = [3]\n",
        "data['F'] = ['K', 'L', 'M', 1]\n",
        "data['G'] = [6]\n",
        "data['H'] = ['N', '0', 2]\n",
        "data['I'] = [5]\n",
        "data['J'] = [4]\n",
        "data['K'] = [2]\n",
        "data['L'] = [0]\n",
        "data['M'] = [4]\n",
        "data['N'] = [0]\n",
        "data['0'] = [4]\n",
        "print(data)"
      ],
      "metadata": {
        "colab": {
          "base_uri": "https://localhost:8080/"
        },
        "id": "RUm0sU337WZQ",
        "outputId": "e8aaa5ca-49d4-4d7c-9898-53fa701a8f36"
      },
      "execution_count": 65,
      "outputs": [
        {
          "output_type": "stream",
          "name": "stdout",
          "text": [
            "defaultdict(<class 'list'>, {'A': ['B', 'C', 'D', 6], 'B': ['E', 'F', 3], 'C': ['G', 'H', 4], 'D': ['I', 'J', 5], 'E': [3], 'F': ['K', 'L', 'M', 1], 'G': [6], 'H': ['N', '0', 2], 'I': [5], 'J': [4], 'K': [2], 'L': [0], 'M': [4], 'N': [0], '0': [4]})\n"
          ]
        }
      ]
    }
  ]
}